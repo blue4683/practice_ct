{
 "cells": [
  {
   "attachments": {},
   "cell_type": "markdown",
   "metadata": {},
   "source": [
    "# BAEKJOON ONLINE JUDGE - 2447. 별 찍기 - 10\n",
    "\n",
    "* [문제출처](https://www.acmicpc.net/problem/2447 \"2447. 별 찍기 - 10\")"
   ]
  },
  {
   "attachments": {},
   "cell_type": "markdown",
   "metadata": {},
   "source": [
    "## 정답"
   ]
  },
  {
   "cell_type": "code",
   "execution_count": 65,
   "metadata": {},
   "outputs": [
    {
     "name": "stdout",
     "output_type": "stream",
     "text": [
      "*********\n",
      "* ** ** *\n",
      "*********\n",
      "***   ***\n",
      "* *   * *\n",
      "***   ***\n",
      "*********\n",
      "* ** ** *\n",
      "*********\n"
     ]
    }
   ],
   "source": [
    "def draw_star(n):\n",
    "    if n==1:\n",
    "        return ['*']\n",
    "    \n",
    "    stars = draw_star(n//3)\n",
    "    scale = []\n",
    "\n",
    "    for star in stars:\n",
    "        scale.append(star*3)\n",
    "    for star in stars:\n",
    "        scale.append(star+' '*(n//3)+star)\n",
    "    for star in stars:\n",
    "        scale.append(star*3)\n",
    "\n",
    "    return scale\n",
    "\n",
    "n=int(input())\n",
    "print('\\n'.join(draw_star(n)))"
   ]
  },
  {
   "attachments": {},
   "cell_type": "markdown",
   "metadata": {},
   "source": [
    "## 시도\n",
    "* 반복되는 패턴을 못찾음"
   ]
  },
  {
   "cell_type": "code",
   "execution_count": 66,
   "metadata": {},
   "outputs": [
    {
     "name": "stdout",
     "output_type": "stream",
     "text": [
      "*********\n",
      "* ** ** *\n",
      "*********\n",
      "***   ***\n",
      "* *   * *\n",
      "***   ***\n",
      "*********\n",
      "* ** ** *\n",
      "*********\n"
     ]
    }
   ],
   "source": [
    "star='*'\n",
    "blank=' '\n",
    "a = []\n",
    "a.append(star*3)\n",
    "a.append(star+blank+star)\n",
    "a.append(star*3)\n",
    "star = a.copy()\n",
    "blank = ' '*3\n",
    "a = []\n",
    "a.append(list(map(lambda x:x*3, star)))\n",
    "a.append(list(map(lambda x:x+blank+x, star)))\n",
    "a.append(list(map(lambda x:x*3, star)))\n",
    "for s in a:\n",
    "    print('\\n'.join(s))"
   ]
  },
  {
   "cell_type": "code",
   "execution_count": null,
   "metadata": {},
   "outputs": [],
   "source": []
  }
 ],
 "metadata": {
  "kernelspec": {
   "display_name": "Python 3.7.4 ('base')",
   "language": "python",
   "name": "python3"
  },
  "language_info": {
   "codemirror_mode": {
    "name": "ipython",
    "version": 3
   },
   "file_extension": ".py",
   "mimetype": "text/x-python",
   "name": "python",
   "nbconvert_exporter": "python",
   "pygments_lexer": "ipython3",
   "version": "3.7.4"
  },
  "orig_nbformat": 4,
  "vscode": {
   "interpreter": {
    "hash": "e4cce46d6be9934fbd27f9ca0432556941ea5bdf741d4f4d64c6cd7f8dfa8fba"
   }
  }
 },
 "nbformat": 4,
 "nbformat_minor": 2
}
