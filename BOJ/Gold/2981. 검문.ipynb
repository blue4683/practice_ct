{
 "cells": [
  {
   "attachments": {},
   "cell_type": "markdown",
   "metadata": {},
   "source": [
    "# BAEKJOON ONLINE JUDGE - 2981. 검문\n",
    "\n",
    "* [문제출처](https://www.acmicpc.net/problem/2981 \"2981. 검문\")"
   ]
  },
  {
   "attachments": {},
   "cell_type": "markdown",
   "metadata": {},
   "source": [
    "## 풀이\n",
    "* 리스트 정렬 후 인접하는 원소들의 차의 최대 공약수를 구함\n",
    "* 1을 제외한 최대 공약수의 약수를 구함"
   ]
  },
  {
   "attachments": {},
   "cell_type": "markdown",
   "metadata": {},
   "source": [
    "## 시도1(시간초과)"
   ]
  },
  {
   "cell_type": "code",
   "execution_count": 14,
   "metadata": {},
   "outputs": [
    {
     "name": "stdout",
     "output_type": "stream",
     "text": [
      "2 4\n"
     ]
    }
   ],
   "source": [
    "num_list = []\n",
    "res = []\n",
    "for t in range(int(input())):\n",
    "    num_list.append(int(input()))\n",
    "\n",
    "num_list.sort()\n",
    "for i in range(2, num_list[1]):\n",
    "    temp = list(map(lambda x:x%i, num_list))\n",
    "    if len(set(temp)) == 1:\n",
    "        res.append(i)\n",
    "\n",
    "print(*res)"
   ]
  },
  {
   "attachments": {},
   "cell_type": "markdown",
   "metadata": {},
   "source": [
    "## 시도2"
   ]
  },
  {
   "cell_type": "code",
   "execution_count": 17,
   "metadata": {},
   "outputs": [
    {
     "name": "stdout",
     "output_type": "stream",
     "text": [
      "2 4\n"
     ]
    }
   ],
   "source": [
    "num_list = []\n",
    "for t in range(int(input())):\n",
    "    num_list.append(int(input()))\n",
    "num_list.sort()\n",
    "num = []\n",
    "\n",
    "for i in range(1, len(num_list)):\n",
    "    num.append(num_list[i] - num_list[i-1])\n",
    "\n",
    "def findGCD(a, b):\n",
    "    num = b\n",
    "    div = a\n",
    "    rest = num % div\n",
    "    while rest != 0:\n",
    "        num = div\n",
    "        div = rest\n",
    "        rest = num % div\n",
    "    return div\n",
    "\n",
    "GCD = num[0]\n",
    "for idx in range(1, len(num)):\n",
    "    GCD = findGCD(GCD, num[idx])\n",
    "\n",
    "result = set()\n",
    "for i in range(2, int(GCD**0.5) + 1):\n",
    "    if GCD % i == 0:\n",
    "        result.add(i)\n",
    "        result.add(GCD // i)\n",
    "result.add(GCD)\n",
    "print(*sorted(list(result)))"
   ]
  },
  {
   "cell_type": "code",
   "execution_count": null,
   "metadata": {},
   "outputs": [],
   "source": []
  }
 ],
 "metadata": {
  "kernelspec": {
   "display_name": "Python 3.7.4 ('base')",
   "language": "python",
   "name": "python3"
  },
  "language_info": {
   "codemirror_mode": {
    "name": "ipython",
    "version": 3
   },
   "file_extension": ".py",
   "mimetype": "text/x-python",
   "name": "python",
   "nbconvert_exporter": "python",
   "pygments_lexer": "ipython3",
   "version": "3.7.4"
  },
  "orig_nbformat": 4,
  "vscode": {
   "interpreter": {
    "hash": "e4cce46d6be9934fbd27f9ca0432556941ea5bdf741d4f4d64c6cd7f8dfa8fba"
   }
  }
 },
 "nbformat": 4,
 "nbformat_minor": 2
}
