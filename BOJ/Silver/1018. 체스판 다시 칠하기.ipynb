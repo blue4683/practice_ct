{
 "cells": [
  {
   "attachments": {},
   "cell_type": "markdown",
   "metadata": {},
   "source": [
    "# BAEKJOON ONLINE JUDGE - 1018. 체스판 다시 칠하기\n",
    "\n",
    "* [문제출처](https://www.acmicpc.net/problem/1018 \"1018. 체스판 다시 칠하기\")"
   ]
  },
  {
   "attachments": {},
   "cell_type": "markdown",
   "metadata": {},
   "source": [
    "## 풀이\n",
    "* 시작이 'B'인 체스판과 'W'인 체스판과 비교하여 가장 작은 cnt를 찾는다.\n",
    "* (0, 0)에서 시작하여 8*8 영역의 원소를 확인한다.\n",
    "* bfs를 통해 탐색할 수 있는 영역의 시작점(y-8, x-8)을 모두 찾아 탐색한다."
   ]
  },
  {
   "attachments": {},
   "cell_type": "markdown",
   "metadata": {},
   "source": [
    "## 시도1"
   ]
  },
  {
   "cell_type": "code",
   "execution_count": 36,
   "metadata": {},
   "outputs": [
    {
     "name": "stdout",
     "output_type": "stream",
     "text": [
      "31\n"
     ]
    }
   ],
   "source": [
    "from collections import *\n",
    "import sys\n",
    "\n",
    "def bfs():\n",
    "    global cnt\n",
    "    q = deque([(0,0)])\n",
    "    visited[0][0] = True\n",
    "    while q:\n",
    "        cnt_BW = 0\n",
    "        cnt_WB = 0\n",
    "        cur = q.popleft()\n",
    "\n",
    "        for j in range(8):\n",
    "            for i in range(8):\n",
    "                if chess[cur[0]+j][cur[1]+i] == filter_WB[j][i]:\n",
    "                    cnt_WB+=1\n",
    "                elif chess[cur[0]+j][cur[1]+i] == filter_BW[j][i]:\n",
    "                    cnt_BW+=1\n",
    "        cnt = min(cnt, cnt_BW, cnt_WB)\n",
    "\n",
    "        for i in range(2):\n",
    "            xx = dx[i] + cur[1]\n",
    "            yy = dy[i] + cur[0]\n",
    "            if (xx<=x-8) and (yy<=y-8) and not visited[yy][xx]:\n",
    "                visited[yy][xx] = True\n",
    "                q.append((yy,xx))\n",
    "\n",
    "sys.stdin = open('C:\\practice_ct-1\\BOJ\\Silver\\input\\\\1018.txt', 'r')\n",
    "y,x = map(int, sys.stdin.readline().split())\n",
    "chess = [list(sys.stdin.readline().rstrip()) for _ in range(y)]\n",
    "visited = [[False]*(x+1) for _ in range(y+1)]\n",
    "filter_BW = []\n",
    "filter_WB = []\n",
    "for i in range(8):\n",
    "    if i%2 == 0:\n",
    "        filter_BW.append(['B','W']*4)\n",
    "        filter_WB.append(['W','B']*4)\n",
    "    else:\n",
    "        filter_WB.append(['B','W']*4)\n",
    "        filter_BW.append(['W','B']*4)\n",
    "\n",
    "dx = [0, 1]\n",
    "dy = [1, 0]\n",
    "cnt = 64\n",
    "\n",
    "bfs()\n",
    "print(cnt)"
   ]
  },
  {
   "cell_type": "code",
   "execution_count": null,
   "metadata": {},
   "outputs": [],
   "source": []
  }
 ],
 "metadata": {
  "kernelspec": {
   "display_name": "Python 3.7.4 ('base')",
   "language": "python",
   "name": "python3"
  },
  "language_info": {
   "codemirror_mode": {
    "name": "ipython",
    "version": 3
   },
   "file_extension": ".py",
   "mimetype": "text/x-python",
   "name": "python",
   "nbconvert_exporter": "python",
   "pygments_lexer": "ipython3",
   "version": "3.7.4"
  },
  "orig_nbformat": 4,
  "vscode": {
   "interpreter": {
    "hash": "e4cce46d6be9934fbd27f9ca0432556941ea5bdf741d4f4d64c6cd7f8dfa8fba"
   }
  }
 },
 "nbformat": 4,
 "nbformat_minor": 2
}
