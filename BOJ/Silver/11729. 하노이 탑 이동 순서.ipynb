{
 "cells": [
  {
   "attachments": {},
   "cell_type": "markdown",
   "metadata": {},
   "source": [
    "# BAEKJOON ONLINE JUDGE - 11729. 하노이 탑 이동 순서\n",
    "\n",
    "* [문제출처](https://www.acmicpc.net/problem/11729 \"11729. 하노이 탑 이동 순서\")"
   ]
  },
  {
   "attachments": {},
   "cell_type": "markdown",
   "metadata": {},
   "source": [
    "## 풀이\n",
    "\n",
    "* 하노이 탑의 최소 이동 횟수는 (2**n)-1 이다.\n",
    "\n",
    "### 문제 분해\n",
    "\n",
    "* 왼쪽에서부터 1번, 2번, 3번 기둥을 start, sub, end로 표현할 때,\n",
    "</br></br>\n",
    "\n",
    "* n-1개의 원반을 end 기둥을 활용해 sub 기둥으로 옮긴다.\n",
    "* 가장 큰 원반을 end 기둥으로 옮긴다.\n",
    "* sub 기둥에 있는 n-1개의 원반을 start 기둥을 활용해 end 기둥으로 옮긴다.\n",
    "* n이 1이면 재귀를 종료한다."
   ]
  },
  {
   "attachments": {},
   "cell_type": "markdown",
   "metadata": {},
   "source": [
    "## 정답"
   ]
  },
  {
   "cell_type": "code",
   "execution_count": 1,
   "metadata": {},
   "outputs": [
    {
     "name": "stdout",
     "output_type": "stream",
     "text": [
      "7\n",
      "1 3\n",
      "1 2\n",
      "3 2\n",
      "1 3\n",
      "2 1\n",
      "2 3\n",
      "1 3\n"
     ]
    }
   ],
   "source": [
    "def move(n, start, end):\n",
    "    print(start, end)\n",
    "\n",
    "def hanoi(n, start, end, sub):\n",
    "    if n == 1:\n",
    "        move(1, start, end)\n",
    "        return\n",
    "    else:\n",
    "        hanoi(n-1, start, sub, end)\n",
    "        move(n, start, end)\n",
    "        hanoi(n-1, sub, end, start)\n",
    "\n",
    "n = int(input())\n",
    "cnt = (2**n)-1\n",
    "print(cnt)\n",
    "hanoi(n, 1, 3, 2)"
   ]
  },
  {
   "cell_type": "code",
   "execution_count": null,
   "metadata": {},
   "outputs": [],
   "source": []
  }
 ],
 "metadata": {
  "kernelspec": {
   "display_name": "Python 3.7.4 ('base')",
   "language": "python",
   "name": "python3"
  },
  "language_info": {
   "codemirror_mode": {
    "name": "ipython",
    "version": 3
   },
   "file_extension": ".py",
   "mimetype": "text/x-python",
   "name": "python",
   "nbconvert_exporter": "python",
   "pygments_lexer": "ipython3",
   "version": "3.7.4"
  },
  "orig_nbformat": 4,
  "vscode": {
   "interpreter": {
    "hash": "e4cce46d6be9934fbd27f9ca0432556941ea5bdf741d4f4d64c6cd7f8dfa8fba"
   }
  }
 },
 "nbformat": 4,
 "nbformat_minor": 2
}
