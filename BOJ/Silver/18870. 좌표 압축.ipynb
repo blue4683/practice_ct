{
 "cells": [
  {
   "attachments": {},
   "cell_type": "markdown",
   "metadata": {},
   "source": [
    "# BAEKJOON ONLINE JUDGE - 18870. 좌표 압축\n",
    "\n",
    "* [문제출처](https://www.acmicpc.net/problem/18870 \"18870. 좌표 압축\")"
   ]
  },
  {
   "attachments": {},
   "cell_type": "markdown",
   "metadata": {},
   "source": [
    "## 풀이\n",
    "\n",
    "* 주어진 리스트를 set()을 통해 중복을 없앤 후 다시 list로 변환하여 정렬한다.\n",
    "* list의 값과 그에 해당하는 인덱스를 enumerate()를 통해 추출하고 dict()에 각각 key, value로 저장한다.\n",
    "* 주어진 리스트의 값을 dict()의 key로 사용하여 인덱스를 가져온다."
   ]
  },
  {
   "attachments": {},
   "cell_type": "markdown",
   "metadata": {},
   "source": [
    "## 정답"
   ]
  },
  {
   "cell_type": "code",
   "execution_count": 6,
   "metadata": {},
   "outputs": [
    {
     "name": "stdout",
     "output_type": "stream",
     "text": [
      "2 3 0 3 1\n"
     ]
    }
   ],
   "source": [
    "n = int(input())\n",
    "num_list = list(map(int, input().split()))\n",
    "sorted_list = set(num_list)\n",
    "sorted_list = sorted(list(sorted_list))\n",
    "dict_num = dict()\n",
    "for value, key in enumerate(sorted_list):\n",
    "    dict_num[key] = value\n",
    "res = list(map(lambda x:dict_num[x], num_list))\n",
    "print(*res)"
   ]
  },
  {
   "attachments": {},
   "cell_type": "markdown",
   "metadata": {},
   "source": [
    "## 시도1(시간초과)\n",
    "* 위치를 찾을때마다 .index()를 사용하기 때문에 시간복잡도는 O(n**2)이다."
   ]
  },
  {
   "cell_type": "code",
   "execution_count": 3,
   "metadata": {},
   "outputs": [
    {
     "name": "stdout",
     "output_type": "stream",
     "text": [
      "2 3 0 3 1\n"
     ]
    }
   ],
   "source": [
    "n = int(input())\n",
    "num_list = list(map(int, input().split()))\n",
    "sorted_list = set(num_list)\n",
    "sorted_list = sorted(list(sorted_list))\n",
    "res = []\n",
    "for num in num_list:\n",
    "    res.append(len(sorted_list[:sorted_list.index(num)]))\n",
    "print(*res)"
   ]
  },
  {
   "cell_type": "code",
   "execution_count": null,
   "metadata": {},
   "outputs": [],
   "source": []
  }
 ],
 "metadata": {
  "kernelspec": {
   "display_name": "Python 3.7.4 ('base')",
   "language": "python",
   "name": "python3"
  },
  "language_info": {
   "codemirror_mode": {
    "name": "ipython",
    "version": 3
   },
   "file_extension": ".py",
   "mimetype": "text/x-python",
   "name": "python",
   "nbconvert_exporter": "python",
   "pygments_lexer": "ipython3",
   "version": "3.7.4"
  },
  "orig_nbformat": 4,
  "vscode": {
   "interpreter": {
    "hash": "e4cce46d6be9934fbd27f9ca0432556941ea5bdf741d4f4d64c6cd7f8dfa8fba"
   }
  }
 },
 "nbformat": 4,
 "nbformat_minor": 2
}
