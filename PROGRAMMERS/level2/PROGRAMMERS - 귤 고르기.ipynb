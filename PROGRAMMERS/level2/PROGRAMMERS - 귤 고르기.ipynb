{
 "cells": [
  {
   "attachments": {},
   "cell_type": "markdown",
   "metadata": {},
   "source": [
    "# Programmers - 귤 고르기\n",
    "\n",
    "* [문제출처](https://school.programmers.co.kr/learn/courses/30/lessons/138476 \"귤 고르기\")"
   ]
  },
  {
   "attachments": {},
   "cell_type": "markdown",
   "metadata": {},
   "source": [
    "## 시도1(정확성=82.4)\n",
    "\n",
    "* 시간 초과(중첩 반복문(for문 + count()))"
   ]
  },
  {
   "cell_type": "code",
   "execution_count": 1,
   "metadata": {},
   "outputs": [
    {
     "name": "stdout",
     "output_type": "stream",
     "text": [
      "3\n"
     ]
    }
   ],
   "source": [
    "def solution(k, tangerine):\n",
    "    answer = 0\n",
    "    cnt = 0\n",
    "    set_tangerine = set(tangerine)\n",
    "    cnt_list = [tangerine.count(i) for i in set_tangerine]\n",
    "    cnt_list.sort(reverse=True)\n",
    "    for idx in range(len(cnt_list)):\n",
    "        cnt += cnt_list[idx]\n",
    "        answer += 1\n",
    "        if cnt >= k:\n",
    "            return answer\n",
    "    return answer\n",
    "\n",
    "k = 6\n",
    "tangerine = [1, 3, 2, 5, 4, 5, 2, 3]\n",
    "print(solution(k, tangerine))"
   ]
  },
  {
   "attachments": {},
   "cell_type": "markdown",
   "metadata": {},
   "source": [
    "## 시도2(정답)\n",
    "* 정렬 후 앞에서부터 그 전 원소와 비교하면서 같은 원소 개수 찾기(중첩 반복문 X)\n",
    "* 탐색 작업에서 tangerine 리스트 길이가 1일 경우 런타임 에러 발생 == 예외 처리"
   ]
  },
  {
   "cell_type": "code",
   "execution_count": 2,
   "metadata": {},
   "outputs": [
    {
     "name": "stdout",
     "output_type": "stream",
     "text": [
      "3\n"
     ]
    }
   ],
   "source": [
    "def solution(k, tangerine):\n",
    "    if k == 1 or len(tangerine) == 1:\n",
    "        return 1\n",
    "    answer = 0\n",
    "    cnt = 0\n",
    "    temp = 1\n",
    "    tangerine.sort()\n",
    "    cnt_list = []\n",
    "    for idx in range(1,len(tangerine)):\n",
    "        if tangerine[idx-1] == tangerine[idx]:\n",
    "            temp += 1\n",
    "        else:\n",
    "            cnt_list.append(temp)\n",
    "            temp = 1\n",
    "    if tangerine[-1] == tangerine[-2]:\n",
    "        cnt_list.append(temp)\n",
    "    else:\n",
    "        cnt_list.append(1)\n",
    "    cnt_list.sort(reverse=True)\n",
    "    for idx in range(len(cnt_list)):\n",
    "        cnt += cnt_list[idx]\n",
    "        if cnt >= k:\n",
    "            answer = idx+1\n",
    "            break\n",
    "    return answer\n",
    "    \n",
    "k = 6\n",
    "tangerine = [1, 3, 2, 5, 4, 5, 2, 3]\n",
    "print(solution(k, tangerine))"
   ]
  },
  {
   "cell_type": "code",
   "execution_count": null,
   "metadata": {},
   "outputs": [],
   "source": []
  }
 ],
 "metadata": {
  "kernelspec": {
   "display_name": "Python 3.7.4 ('base')",
   "language": "python",
   "name": "python3"
  },
  "language_info": {
   "codemirror_mode": {
    "name": "ipython",
    "version": 3
   },
   "file_extension": ".py",
   "mimetype": "text/x-python",
   "name": "python",
   "nbconvert_exporter": "python",
   "pygments_lexer": "ipython3",
   "version": "3.7.4"
  },
  "orig_nbformat": 4,
  "vscode": {
   "interpreter": {
    "hash": "e4cce46d6be9934fbd27f9ca0432556941ea5bdf741d4f4d64c6cd7f8dfa8fba"
   }
  }
 },
 "nbformat": 4,
 "nbformat_minor": 2
}
