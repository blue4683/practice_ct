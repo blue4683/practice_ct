{
 "cells": [
  {
   "attachments": {},
   "cell_type": "markdown",
   "metadata": {},
   "source": [
    "# Programmers - 롤케이크 자르기\n",
    "\n",
    "* [문제출처](https://school.programmers.co.kr/learn/courses/30/lessons/132265 \"롤케이크 자르기\")"
   ]
  },
  {
   "attachments": {},
   "cell_type": "markdown",
   "metadata": {},
   "source": [
    "## 시도1(정확성=10)\n",
    "\n",
    "* 시간 초과"
   ]
  },
  {
   "cell_type": "code",
   "execution_count": null,
   "metadata": {},
   "outputs": [],
   "source": [
    "def solution(topping):\n",
    "    answer = 0\n",
    "    start = 0\n",
    "    while True:\n",
    "        left = topping[:start]\n",
    "        right = topping[start:]\n",
    "        if len(set(left)) == len(set(right)):\n",
    "            answer += 1\n",
    "        start += 1\n",
    "        if start == len(topping):\n",
    "            break\n",
    "    return answer"
   ]
  },
  {
   "attachments": {},
   "cell_type": "markdown",
   "metadata": {},
   "source": [
    "## 시도2(정답)\n",
    "* 슬라이싱 X"
   ]
  },
  {
   "cell_type": "code",
   "execution_count": null,
   "metadata": {},
   "outputs": [],
   "source": [
    "from collections import Counter\n",
    "\n",
    "def solution(topping):\n",
    "    answer = 0\n",
    "    left = Counter(topping)\n",
    "    right = set()\n",
    "    while len(topping) != 1:\n",
    "        element = topping.pop()\n",
    "        right.add(element)\n",
    "        if left[element] > 1:\n",
    "            left[element] = left[element]-1\n",
    "        else:\n",
    "            del left[element]\n",
    "\n",
    "        if len(left) == len(right):\n",
    "            answer+=1\n",
    "    return answer"
   ]
  },
  {
   "cell_type": "code",
   "execution_count": null,
   "metadata": {},
   "outputs": [],
   "source": []
  }
 ],
 "metadata": {
  "kernelspec": {
   "display_name": "Python 3.7.4 ('base')",
   "language": "python",
   "name": "python3"
  },
  "language_info": {
   "codemirror_mode": {
    "name": "ipython",
    "version": 3
   },
   "file_extension": ".py",
   "mimetype": "text/x-python",
   "name": "python",
   "nbconvert_exporter": "python",
   "pygments_lexer": "ipython3",
   "version": "3.7.4"
  },
  "orig_nbformat": 4,
  "vscode": {
   "interpreter": {
    "hash": "e4cce46d6be9934fbd27f9ca0432556941ea5bdf741d4f4d64c6cd7f8dfa8fba"
   }
  }
 },
 "nbformat": 4,
 "nbformat_minor": 2
}
