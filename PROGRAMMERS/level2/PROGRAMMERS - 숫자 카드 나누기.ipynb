{
 "cells": [
  {
   "attachments": {},
   "cell_type": "markdown",
   "metadata": {},
   "source": [
    "# Programmers - 숫자 카드 나누기\n",
    "\n",
    "* [문제출처](https://school.programmers.co.kr/learn/courses/30/lessons/135807 \"숫자 카드 나누기\")"
   ]
  },
  {
   "attachments": {},
   "cell_type": "markdown",
   "metadata": {},
   "source": [
    "## 시도1(시간초과)"
   ]
  },
  {
   "cell_type": "code",
   "execution_count": 7,
   "metadata": {},
   "outputs": [
    {
     "name": "stdout",
     "output_type": "stream",
     "text": [
      "0\n"
     ]
    }
   ],
   "source": [
    "def solution(arrayA, arrayB):\n",
    "    minA = sorted(arrayA)[0]\n",
    "    minB = sorted(arrayB)[0]\n",
    "    answer = 0\n",
    "    cdA, cdB = [minA], [minB]\n",
    "    res = []\n",
    "    for i in range(2, int(minA**0.5)):\n",
    "        if minA%i == 0:\n",
    "            cdA.append(i)\n",
    "            cdA.append(minA//i)\n",
    "    for i in range(2, int(minB**0.5)):\n",
    "        if minB%i == 0:\n",
    "            cdB.append(i)\n",
    "            cdB.append(minB//i)\n",
    "    for A in cdA:\n",
    "        tempA = set(map(lambda x:x%A, arrayA))\n",
    "        tempB = set(map(lambda x:x%A, arrayB))\n",
    "        if (tempA == {0} and 0 not in tempB) or (tempB == {0} and 0 not in tempA):\n",
    "            res.append(A)\n",
    "    for B in cdB:\n",
    "        tempA = set(map(lambda x:x%B, arrayA))\n",
    "        tempB = set(map(lambda x:x%B, arrayB))\n",
    "        if (tempA == {0} and 0 not in tempB) or (tempB == {0} and 0 not in tempA):\n",
    "            res.append(B)\n",
    "    if res==[]:\n",
    "        answer = 0\n",
    "    else:\n",
    "        answer = max(res)\n",
    "    return answer\n",
    "\n",
    "arrayA = [10, 17]\n",
    "arrayB = [5, 20]\n",
    "print(solution(arrayA, arrayB))\n"
   ]
  },
  {
   "attachments": {},
   "cell_type": "markdown",
   "metadata": {},
   "source": [
    "## 시도2\n",
    "* 중간에 조건을 줘서 만족하지 않으면 끝까지 반복문을 돌리지 않게 설계함"
   ]
  },
  {
   "cell_type": "code",
   "execution_count": 1,
   "metadata": {},
   "outputs": [
    {
     "name": "stdout",
     "output_type": "stream",
     "text": [
      "0\n"
     ]
    }
   ],
   "source": [
    "def solution(arrayA, arrayB):\n",
    "    minA = min(arrayA)\n",
    "    minB = min(arrayB)\n",
    "    answer = 0\n",
    "    cdA, cdB = [minA], [minB]\n",
    "    for i in range(2, int(minA**0.5)):\n",
    "        if minA%i == 0:\n",
    "            cdA.append(i)\n",
    "            cdA.append(minA//i)\n",
    "    for i in range(2, int(minB**0.5)):\n",
    "        if minB%i == 0:\n",
    "            cdB.append(i)\n",
    "            cdB.append(minB//i)\n",
    "    cd = set(cdA+cdB)\n",
    "    cd = list(cd)\n",
    "    cd = sorted(cd, reverse=True)\n",
    "    for C in cd:\n",
    "        tempA = set(map(lambda x:x%C, arrayA))\n",
    "        if tempA != {0} and 0 in tempA:\n",
    "            continue\n",
    "        tempB = set(map(lambda x:x%C, arrayB))\n",
    "        if (tempA == {0} and min(tempB)!=0) or (tempB == {0} and min(tempA)!=0):\n",
    "            answer = C\n",
    "            break\n",
    "\n",
    "    return answer\n",
    "\n",
    "arrayA = [10, 17]\n",
    "arrayB = [5, 20]\n",
    "print(solution(arrayA, arrayB))"
   ]
  },
  {
   "cell_type": "code",
   "execution_count": null,
   "metadata": {},
   "outputs": [],
   "source": []
  }
 ],
 "metadata": {
  "kernelspec": {
   "display_name": "Python 3.7.4 ('base')",
   "language": "python",
   "name": "python3"
  },
  "language_info": {
   "codemirror_mode": {
    "name": "ipython",
    "version": 3
   },
   "file_extension": ".py",
   "mimetype": "text/x-python",
   "name": "python",
   "nbconvert_exporter": "python",
   "pygments_lexer": "ipython3",
   "version": "3.7.4"
  },
  "orig_nbformat": 4,
  "vscode": {
   "interpreter": {
    "hash": "e4cce46d6be9934fbd27f9ca0432556941ea5bdf741d4f4d64c6cd7f8dfa8fba"
   }
  }
 },
 "nbformat": 4,
 "nbformat_minor": 2
}
