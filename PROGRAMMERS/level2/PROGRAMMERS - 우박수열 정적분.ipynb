{
 "cells": [
  {
   "attachments": {},
   "cell_type": "markdown",
   "metadata": {},
   "source": [
    "# Programmers - 우박수열 정적분\n",
    "\n",
    "* [문제출처](https://school.programmers.co.kr/learn/courses/30/lessons/134239 \"우박수열 정적분\")"
   ]
  },
  {
   "attachments": {},
   "cell_type": "markdown",
   "metadata": {},
   "source": [
    "## 시도1(정확성=10.0)\n",
    "\n",
    "* 테스트케이스만 정답"
   ]
  },
  {
   "cell_type": "code",
   "execution_count": 1,
   "metadata": {},
   "outputs": [
    {
     "name": "stdout",
     "output_type": "stream",
     "text": [
      "[33.0, 31.5, 0.0, -1.0]\n"
     ]
    }
   ],
   "source": [
    "def solution(k, ranges):\n",
    "    answer = []\n",
    "    graph = [k]\n",
    "    while k>1:\n",
    "        if k%2==1:\n",
    "            k*=3\n",
    "            k+=1\n",
    "            graph.append(k)\n",
    "        else:\n",
    "            k/=2\n",
    "            graph.append(k)\n",
    "    \n",
    "    space = []\n",
    "    for idx in range(len(graph)-1):\n",
    "        temp = (graph[idx]+graph[idx+1])/2\n",
    "        space.append(temp)\n",
    "    for grid in ranges:\n",
    "        if grid == [0, 0]:\n",
    "            answer.append(sum(space))\n",
    "        elif grid[0] == len(space)+grid[1]:\n",
    "            answer.append(0.0)\n",
    "        elif grid[0] < len(space)+grid[1]:\n",
    "            answer.append(float(sum(space[grid[0]:grid[1]])))\n",
    "        else:\n",
    "            answer.append(-1.0)\n",
    "        \n",
    "    return answer\n",
    "\n",
    "k=5\n",
    "ranges=[[0,0],[0,-1],[2,-3],[3,-3]]\n",
    "print(solution(k,ranges))"
   ]
  },
  {
   "attachments": {},
   "cell_type": "markdown",
   "metadata": {},
   "source": [
    "## 시도2(정답)\n",
    "* sum(space)의 범위를 grid[1]에서 len(space)+grid[1]로 바꿈"
   ]
  },
  {
   "cell_type": "code",
   "execution_count": 2,
   "metadata": {},
   "outputs": [
    {
     "name": "stdout",
     "output_type": "stream",
     "text": [
      "[33.0, 31.5, 0.0, -1.0]\n"
     ]
    }
   ],
   "source": [
    "def solution(k, ranges):\n",
    "    answer = []\n",
    "    graph = [k]\n",
    "    while k>1:\n",
    "        if k%2==1:\n",
    "            k*=3\n",
    "            k+=1\n",
    "            graph.append(k)\n",
    "        else:\n",
    "            k/=2\n",
    "            graph.append(k)\n",
    "    \n",
    "    space = []\n",
    "    for idx in range(len(graph)-1):\n",
    "        temp = (graph[idx]+graph[idx+1])/2\n",
    "        space.append(temp)\n",
    "    for grid in ranges:\n",
    "        if grid == [0, 0]:\n",
    "            answer.append(sum(space))\n",
    "        elif grid[0] == len(space)+grid[1]:\n",
    "            answer.append(0.0)\n",
    "        elif grid[0] < len(space)+grid[1]:\n",
    "            answer.append(float(sum(space[grid[0]:len(space)+grid[1]])))\n",
    "        else:\n",
    "            answer.append(-1.0)\n",
    "        \n",
    "    return answer\n",
    "\n",
    "k=5\n",
    "ranges=[[0,0],[0,-1],[2,-3],[3,-3]]\n",
    "print(solution(k,ranges))"
   ]
  },
  {
   "cell_type": "code",
   "execution_count": null,
   "metadata": {},
   "outputs": [],
   "source": []
  }
 ],
 "metadata": {
  "kernelspec": {
   "display_name": "Python 3.7.4 ('base')",
   "language": "python",
   "name": "python3"
  },
  "language_info": {
   "codemirror_mode": {
    "name": "ipython",
    "version": 3
   },
   "file_extension": ".py",
   "mimetype": "text/x-python",
   "name": "python",
   "nbconvert_exporter": "python",
   "pygments_lexer": "ipython3",
   "version": "3.7.4"
  },
  "orig_nbformat": 4,
  "vscode": {
   "interpreter": {
    "hash": "e4cce46d6be9934fbd27f9ca0432556941ea5bdf741d4f4d64c6cd7f8dfa8fba"
   }
  }
 },
 "nbformat": 4,
 "nbformat_minor": 2
}
