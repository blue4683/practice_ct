{
 "cells": [
  {
   "attachments": {},
   "cell_type": "markdown",
   "metadata": {},
   "source": [
    "# Programmers - 점 찍기\n",
    "\n",
    "* [문제출처](https://school.programmers.co.kr/learn/courses/30/lessons/140107 \"점 찍기\")"
   ]
  },
  {
   "attachments": {},
   "cell_type": "markdown",
   "metadata": {},
   "source": [
    "## 시도1(정확성=6.3)\n",
    "\n",
    "* 시간 초과"
   ]
  },
  {
   "cell_type": "code",
   "execution_count": null,
   "metadata": {},
   "outputs": [],
   "source": [
    "from collections import *\n",
    "                \n",
    "def solution(k, d):\n",
    "    visited = [[False]*(d+1) for i in range(d+1)]\n",
    "    dx = [0, k]\n",
    "    dy = [k, 0]\n",
    "    q = deque([(0, 0)])\n",
    "    visited[0][0] = True\n",
    "    answer = 1\n",
    "    while q:\n",
    "        cur = q.popleft()\n",
    "\n",
    "        for i in range(len(dx)):\n",
    "            xx = cur[1]+dx[i]\n",
    "            yy = cur[0]+dy[i]\n",
    "            if xx <= d and yy <= d and xx**2 + yy**2 <= d**2 and not visited[yy][xx]:\n",
    "                visited[yy][xx] = True\n",
    "                answer += 1\n",
    "                q.append((yy,xx))\n",
    "    \n",
    "    return answer"
   ]
  },
  {
   "attachments": {},
   "cell_type": "markdown",
   "metadata": {},
   "source": [
    "## 시도2(정확성=50.0)\n",
    "* 브루트 포스"
   ]
  },
  {
   "cell_type": "code",
   "execution_count": null,
   "metadata": {},
   "outputs": [],
   "source": [
    "from collections import *\n",
    "                \n",
    "def solution(k, d):\n",
    "    answer = 0\n",
    "    dot_list = []\n",
    "    for i in range(0, d+1, k):\n",
    "        for j in range(0, d+1, k):\n",
    "            dot_list.append((i,j))\n",
    "    for dot in dot_list:\n",
    "        if dot[0]**2 + dot[1]**2 <= d**2:\n",
    "            answer+=1\n",
    "    return answer"
   ]
  },
  {
   "attachments": {},
   "cell_type": "markdown",
   "metadata": {},
   "source": [
    "## 시도3(정확성=68.8)\n",
    "* 탐색 범위 설정\n",
    "* 중첩 반복문"
   ]
  },
  {
   "cell_type": "code",
   "execution_count": null,
   "metadata": {},
   "outputs": [],
   "source": [
    "from collections import *\n",
    "                \n",
    "def solution(k, d):\n",
    "    answer = len([(0,0)])\n",
    "    cnt = 0\n",
    "    dot_list = []\n",
    "    for i in range(0, d+1, k):\n",
    "        for j in range(i+k, d+1, k):\n",
    "            dot_list.append((i,j))\n",
    "    for dot in dot_list:\n",
    "        if dot[0]**2 + dot[1]**2 <= d**2:\n",
    "            cnt+=1\n",
    "    answer += cnt*2+int((d//(2**0.5))//k)\n",
    "    return answer"
   ]
  },
  {
   "attachments": {},
   "cell_type": "markdown",
   "metadata": {},
   "source": [
    "## 시도4(정답)\n",
    "* 탐색 범위 설정\n",
    "* 중첩 반복문 사용 X"
   ]
  },
  {
   "cell_type": "code",
   "execution_count": null,
   "metadata": {},
   "outputs": [],
   "source": [
    "def solution(k, d):\n",
    "    answer = 0\n",
    "    cnt = 0\n",
    "    x = [i for i in range(0, d+1, k)]\n",
    "    y = [int((d**2-x[i]**2)**0.5) for i in range(len(x))]\n",
    "    y = list(map(lambda x:(x//k)+1, y))\n",
    "    answer = sum(y)\n",
    "    return answer"
   ]
  },
  {
   "cell_type": "code",
   "execution_count": null,
   "metadata": {},
   "outputs": [],
   "source": []
  }
 ],
 "metadata": {
  "kernelspec": {
   "display_name": "Python 3.7.4 ('base')",
   "language": "python",
   "name": "python3"
  },
  "language_info": {
   "codemirror_mode": {
    "name": "ipython",
    "version": 3
   },
   "file_extension": ".py",
   "mimetype": "text/x-python",
   "name": "python",
   "nbconvert_exporter": "python",
   "pygments_lexer": "ipython3",
   "version": "3.7.4"
  },
  "orig_nbformat": 4,
  "vscode": {
   "interpreter": {
    "hash": "e4cce46d6be9934fbd27f9ca0432556941ea5bdf741d4f4d64c6cd7f8dfa8fba"
   }
  }
 },
 "nbformat": 4,
 "nbformat_minor": 2
}
