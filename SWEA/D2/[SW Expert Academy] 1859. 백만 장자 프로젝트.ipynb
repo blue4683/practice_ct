{
 "cells": [
  {
   "attachments": {},
   "cell_type": "markdown",
   "metadata": {},
   "source": [
    "# SW Expert Academy - 1859. 백만 장자 프로젝트\n",
    "\n",
    "* [문제출처](https://swexpertacademy.com/main/code/problem/problemDetail.do?problemLevel=2&contestProbId=AV5LrsUaDxcDFAXc&categoryId=AV5LrsUaDxcDFAXc&categoryType=CODE&problemTitle=&orderBy=FIRST_REG_DATETIME&selectCodeLang=ALL&select-1=2&pageSize=10&pageIndex=1 \"1859. 백만 장자 프로젝트\")"
   ]
  },
  {
   "attachments": {},
   "cell_type": "markdown",
   "metadata": {},
   "source": [
    "## 풀이\n",
    "\n",
    "* 최댓값 \\* 최댓값 앞에 있는 가격의 개수 - sum(최댓값 앞에 있는 가격들)\n",
    "* 리스트 슬라이싱: 한 번 팔아도 그 다음날부터 다시 사서 파는 경우 계산\n",
    "* 뒤에서부터 탐색: 최댓값이 두 개 이상 존재할 때 계산을 여러번 하는 것을 방지\n"
   ]
  },
  {
   "attachments": {},
   "cell_type": "markdown",
   "metadata": {},
   "source": [
    "## 정답"
   ]
  },
  {
   "cell_type": "code",
   "execution_count": null,
   "metadata": {},
   "outputs": [],
   "source": [
    "T = int(input())\n",
    "for test_case in range(1, T + 1):\n",
    "    N = int(input())\n",
    "    price = list(map(int, input().split()))\n",
    "    idx = -1\n",
    "    profit = 0\n",
    "    while True:\n",
    "        if idx==len(price)-1:\n",
    "            break\n",
    "        temp = price[idx+1:]\n",
    "        temp_rev = list(reversed(temp))\n",
    "        tmp_idx = temp_rev.index(max(temp_rev))\n",
    "        cnt = len(temp)-tmp_idx-1\n",
    "        if tmp_idx == len(temp)+1:\n",
    "            idx+=1\n",
    "        else:\n",
    "            profit += temp[-tmp_idx-1]*cnt - sum(temp[:cnt])\n",
    "            idx += (cnt+1)\n",
    "    print('#{} {}'.format(test_case, profit))"
   ]
  },
  {
   "attachments": {},
   "cell_type": "markdown",
   "metadata": {},
   "source": [
    "## 예제용 정답"
   ]
  },
  {
   "attachments": {},
   "cell_type": "markdown",
   "metadata": {},
   "source": [
    "### 시도1(시간초과)"
   ]
  },
  {
   "cell_type": "code",
   "execution_count": 15,
   "metadata": {},
   "outputs": [
    {
     "name": "stdout",
     "output_type": "stream",
     "text": [
      "#1 0\n",
      "#2 10\n",
      "#3 4\n"
     ]
    }
   ],
   "source": [
    "T = 3\n",
    "N = [3, 3, 5]\n",
    "prices = [[10, 7, 6], [3, 5, 9], [1, 1, 3, 1, 2]]\n",
    "\n",
    "for num, price in enumerate(prices):\n",
    "    profit = 0\n",
    "    for idx in range(1, len(price)):\n",
    "        temp = price[idx]*(idx) - sum(price[:idx])\n",
    "        profit = max(profit, temp)\n",
    "    print('#{} {}'.format(num+1, profit))"
   ]
  },
  {
   "attachments": {},
   "cell_type": "markdown",
   "metadata": {},
   "source": [
    "### 시도2(numpy 못씀)"
   ]
  },
  {
   "cell_type": "code",
   "execution_count": 22,
   "metadata": {},
   "outputs": [
    {
     "name": "stdout",
     "output_type": "stream",
     "text": [
      "#1 0\n",
      "#2 10\n",
      "#3 4\n"
     ]
    }
   ],
   "source": [
    "import numpy as np\n",
    "\n",
    "T = 3\n",
    "N = [3, 3, 5]\n",
    "prices = [[10, 7, 6], [3, 5, 9], [1, 1, 3, 1, 2]]\n",
    "\n",
    "for num, price in enumerate(prices):\n",
    "    price = np.array(price)\n",
    "    idx = np.where(price == max(price))[0][-1]\n",
    "    if idx == 0:\n",
    "        print('#{} {}'.format(num+1, 0))\n",
    "    else:\n",
    "        profit = price[idx]*idx - sum(price[:idx])\n",
    "        print('#{} {}'.format(num+1, profit))"
   ]
  },
  {
   "attachments": {},
   "cell_type": "markdown",
   "metadata": {},
   "source": [
    "### 시도3(뒤에서부터 탐색)"
   ]
  },
  {
   "cell_type": "code",
   "execution_count": 21,
   "metadata": {},
   "outputs": [
    {
     "name": "stdout",
     "output_type": "stream",
     "text": [
      "#1 0\n",
      "#2 10\n",
      "#3 4\n"
     ]
    }
   ],
   "source": [
    "import numpy as np\n",
    "\n",
    "T = 3\n",
    "N = [3, 3, 5]\n",
    "prices = [[10, 7, 6], [3, 5, 9], [1, 1, 3, 1, 2]]\n",
    "\n",
    "for num, price in enumerate(prices):\n",
    "    rev = list(reversed(price))\n",
    "    idx = rev.index(max(rev))\n",
    "    cnt = len(price)-idx-1\n",
    "    if idx == len(price)-1:\n",
    "        print('#{} {}'.format(num+1, 0))\n",
    "    else:\n",
    "        profit = price[-idx-1]*cnt - sum(price[:cnt])\n",
    "        print('#{} {}'.format(num+1, profit))"
   ]
  },
  {
   "attachments": {},
   "cell_type": "markdown",
   "metadata": {},
   "source": [
    "### 시도4(리스트 슬라이싱 + 뒤에서부터 탐색)"
   ]
  },
  {
   "cell_type": "code",
   "execution_count": 2,
   "metadata": {},
   "outputs": [
    {
     "name": "stdout",
     "output_type": "stream",
     "text": [
      "#1 4053\n",
      "#2 6385\n",
      "#3 26725\n",
      "#4 211514\n",
      "#5 4848198\n",
      "#6 49761546\n",
      "#7 500155606\n",
      "#8 4995241394\n",
      "#9 4999367498\n",
      "#10 4995633799\n"
     ]
    }
   ],
   "source": [
    "import sys\n",
    "sys.stdin = open(\"C:/practice_ct/practice_ct/SWEA/D2/input/1859.txt\", \"r\")\n",
    "input = sys.stdin.readline\n",
    "\n",
    "T = int(input())\n",
    "for test_case in range(1, T + 1):\n",
    "    N = int(input())\n",
    "    price = list(map(int, input().split()))\n",
    "    idx = -1\n",
    "    profit = 0\n",
    "    while True:\n",
    "        if idx==len(price)-1:\n",
    "            break\n",
    "        temp = price[idx+1:]\n",
    "        temp_rev = list(reversed(temp))\n",
    "        tmp_idx = temp_rev.index(max(temp_rev))\n",
    "        cnt = len(temp)-tmp_idx-1\n",
    "        if tmp_idx == len(temp)+1:\n",
    "            idx+=1\n",
    "        else:\n",
    "            profit += temp[-tmp_idx-1]*cnt - sum(temp[:cnt])\n",
    "            idx += (cnt+1)\n",
    "    print('#{} {}'.format(test_case, profit))"
   ]
  },
  {
   "cell_type": "code",
   "execution_count": null,
   "metadata": {},
   "outputs": [],
   "source": []
  }
 ],
 "metadata": {
  "kernelspec": {
   "display_name": "Python 3.7.4 ('base')",
   "language": "python",
   "name": "python3"
  },
  "language_info": {
   "codemirror_mode": {
    "name": "ipython",
    "version": 3
   },
   "file_extension": ".py",
   "mimetype": "text/x-python",
   "name": "python",
   "nbconvert_exporter": "python",
   "pygments_lexer": "ipython3",
   "version": "3.7.4"
  },
  "orig_nbformat": 4,
  "vscode": {
   "interpreter": {
    "hash": "e4cce46d6be9934fbd27f9ca0432556941ea5bdf741d4f4d64c6cd7f8dfa8fba"
   }
  }
 },
 "nbformat": 4,
 "nbformat_minor": 2
}
