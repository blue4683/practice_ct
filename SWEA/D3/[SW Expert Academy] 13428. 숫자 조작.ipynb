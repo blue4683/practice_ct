{
 "cells": [
  {
   "attachments": {},
   "cell_type": "markdown",
   "metadata": {},
   "source": [
    "# SW Expert Academy - 13428. 숫자 조작\n",
    "\n",
    "* [문제출처](https://swexpertacademy.com/main/code/problem/problemDetail.do?contestProbId=AX4EJPs68IkDFARe \"13428. 숫자 조작\")"
   ]
  },
  {
   "attachments": {},
   "cell_type": "markdown",
   "metadata": {},
   "source": [
    "## 정답"
   ]
  },
  {
   "cell_type": "code",
   "execution_count": null,
   "metadata": {},
   "outputs": [],
   "source": [
    "T = int(input())\n",
    "for test_case in range(1, T+1):\n",
    "    num=input()\n",
    "    store=[]\n",
    "    for n in num:\n",
    "        store.append(n)\n",
    "    minVal=int(''.join(store))\n",
    "    maxVal=int(''.join(store))\n",
    "    for i in range(len(num)):\n",
    "        for j in range(len(num)-1, i, -1):\n",
    "            mini=store[:]\n",
    "            mini[i], mini[j] = mini[j], mini[i]\n",
    "            if mini[0] == '0':\n",
    "                continue\n",
    "            if minVal > int(''.join(mini)):\n",
    "                minVal=int(''.join(mini))\n",
    "            if maxVal < int(''.join(mini)):\n",
    "                maxVal=int(''.join(mini))\n",
    "\n",
    "    print('#{} {} {}'.format(test_case, minVal, maxVal))"
   ]
  },
  {
   "attachments": {},
   "cell_type": "markdown",
   "metadata": {},
   "source": [
    "## 예제용 정답"
   ]
  },
  {
   "attachments": {},
   "cell_type": "markdown",
   "metadata": {},
   "source": [
    "### 시도1"
   ]
  },
  {
   "cell_type": "code",
   "execution_count": 29,
   "metadata": {},
   "outputs": [
    {
     "name": "stdout",
     "output_type": "stream",
     "text": [
      "#1 0110 1100\n"
     ]
    }
   ],
   "source": [
    "def find(n):\n",
    "    if n == [0]:\n",
    "        return 0, 0\n",
    "\n",
    "    res_max = list(map(str, find_max(n)))\n",
    "    res_min = list(map(str, find_min(n)))\n",
    "    res_max = ''.join(res_max)\n",
    "    res_min = ''.join(res_min)\n",
    "\n",
    "    return res_max, res_min\n",
    "\n",
    "def find_max(n):\n",
    "    if len(n) == 1:\n",
    "        return n\n",
    "    n_copy = n.copy()\n",
    "    if n_copy.index(max(n_copy)) != 0 and max(n_copy) != 0:\n",
    "        temp = n_copy[n_copy.index(max(n_copy))]\n",
    "        n_copy[n_copy.index(max(n_copy))] = n_copy[0]\n",
    "        n_copy[0] = temp\n",
    "        return n_copy\n",
    "\n",
    "    temp = sorted(n_copy, reverse=True)\n",
    "    for idx in range(len(temp)):\n",
    "        if temp[idx] != n_copy[idx]:\n",
    "            tmp_list = n_copy[idx:]\n",
    "            t = tmp_list[tmp_list.index(max(tmp_list))]\n",
    "            tmp_list[tmp_list.index(max(tmp_list))] = tmp_list[0]\n",
    "            tmp_list[0] = t\n",
    "            \n",
    "            return n_copy[:idx]+tmp_list\n",
    "\n",
    "    return n_copy\n",
    "# 13264 123654\n",
    "def find_min(n):\n",
    "    if len(n) == 1:\n",
    "        return n\n",
    "    n_copy = n.copy()\n",
    "    if n_copy.index(min(n_copy)) != 0 and min(n_copy) != 0:\n",
    "        temp = n_copy[n_copy.index(min(n_copy))]\n",
    "        n_copy[n_copy.index(min(n_copy))] = n_copy[0]\n",
    "        n_copy[0] = temp\n",
    "        return n_copy\n",
    "    \n",
    "    temp = sorted(n_copy)\n",
    "    for idx in range(len(temp)):\n",
    "        if temp[idx] != n_copy[idx] and temp[idx] != 0:\n",
    "            tmp_list = n_copy[idx:]\n",
    "            t = tmp_list[tmp_list.index(min(tmp_list))]\n",
    "            tmp_list[tmp_list.index(min(tmp_list))] = tmp_list[0]\n",
    "            tmp_list[0] = t\n",
    "            \n",
    "            return n_copy[:idx]+tmp_list\n",
    "\n",
    "    return n_copy\n",
    "\n",
    "T = int(input())\n",
    "for test_case in range(1, T+1):\n",
    "    num = list(map(int, list(input())))\n",
    "    res = num.copy()\n",
    "    res_max, res_min = find(res)\n",
    "    print('#{} {} {}'.format(test_case, res_min, res_max))"
   ]
  },
  {
   "attachments": {},
   "cell_type": "markdown",
   "metadata": {},
   "source": [
    "### 시도2"
   ]
  },
  {
   "cell_type": "code",
   "execution_count": 30,
   "metadata": {},
   "outputs": [
    {
     "name": "stdout",
     "output_type": "stream",
     "text": [
      "#1 1001 1100\n"
     ]
    }
   ],
   "source": [
    "T = int(input())\n",
    "for test_case in range(1, T+1):\n",
    "    num=input()\n",
    "    store=[]\n",
    "    for n in num:\n",
    "        store.append(n)\n",
    "    minVal=int(''.join(store))\n",
    "    maxVal=int(''.join(store))\n",
    "    for i in range(len(num)):\n",
    "        for j in range(len(num)-1, i, -1):\n",
    "            mini=store[:]\n",
    "            mini[i], mini[j] = mini[j], mini[i]\n",
    "            if mini[0] == '0':\n",
    "                continue\n",
    "            if minVal > int(''.join(mini)):\n",
    "                minVal=int(''.join(mini))\n",
    "            if maxVal < int(''.join(mini)):\n",
    "                maxVal=int(''.join(mini))\n",
    "\n",
    "    print('#{} {} {}'.format(test_case, minVal, maxVal))"
   ]
  },
  {
   "cell_type": "code",
   "execution_count": null,
   "metadata": {},
   "outputs": [],
   "source": []
  }
 ],
 "metadata": {
  "kernelspec": {
   "display_name": "Python 3.7.4 ('base')",
   "language": "python",
   "name": "python3"
  },
  "language_info": {
   "codemirror_mode": {
    "name": "ipython",
    "version": 3
   },
   "file_extension": ".py",
   "mimetype": "text/x-python",
   "name": "python",
   "nbconvert_exporter": "python",
   "pygments_lexer": "ipython3",
   "version": "3.7.4"
  },
  "orig_nbformat": 4,
  "vscode": {
   "interpreter": {
    "hash": "e4cce46d6be9934fbd27f9ca0432556941ea5bdf741d4f4d64c6cd7f8dfa8fba"
   }
  }
 },
 "nbformat": 4,
 "nbformat_minor": 2
}
