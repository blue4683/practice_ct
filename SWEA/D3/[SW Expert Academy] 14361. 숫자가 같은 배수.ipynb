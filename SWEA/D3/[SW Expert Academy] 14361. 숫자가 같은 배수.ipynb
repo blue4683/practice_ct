{
 "cells": [
  {
   "attachments": {},
   "cell_type": "markdown",
   "metadata": {},
   "source": [
    "# SW Expert Academy - 14361. 숫자가 같은 배수\n",
    "\n",
    "* [문제출처](https://swexpertacademy.com/main/code/problem/problemDetail.do?problemLevel=3&contestProbId=AYCnY9Kqu6YDFARx&categoryId=AYCnY9Kqu6YDFARx&categoryType=CODE&problemTitle=&orderBy=FIRST_REG_DATETIME&selectCodeLang=ALL&select-1=3&pageSize=10&pageIndex=1 \"14361. 숫자가 같은 배수\")"
   ]
  },
  {
   "attachments": {},
   "cell_type": "markdown",
   "metadata": {},
   "source": [
    "## 정답"
   ]
  },
  {
   "cell_type": "code",
   "execution_count": null,
   "metadata": {},
   "outputs": [],
   "source": [
    "def find(num, cnt):\n",
    "    while len(str(num*cnt)) == len(str(num)):\n",
    "        temp = str(num*cnt)\n",
    "        temp_cnt = 0\n",
    "        for number in temp:\n",
    "            if number in str(num):\n",
    "                temp_cnt += 1\n",
    "        if temp_cnt == len(str(num)):\n",
    "            return True\n",
    "        cnt+=1\n",
    "    return False\n",
    "\n",
    "T = int(input())\n",
    "for test_case in range(1, T+1):\n",
    "    num = int(input())\n",
    "    cnt = 2\n",
    "    res = find(num, cnt)\n",
    "    if res:\n",
    "        print('#{} possible'.format(test_case))\n",
    "    else:\n",
    "        print('#{} impossible'.format(test_case))\n",
    "                "
   ]
  },
  {
   "attachments": {},
   "cell_type": "markdown",
   "metadata": {},
   "source": [
    "## 예제용 정답"
   ]
  },
  {
   "cell_type": "code",
   "execution_count": 4,
   "metadata": {},
   "outputs": [
    {
     "name": "stdout",
     "output_type": "stream",
     "text": [
      "#1 possible\n",
      "#2 impossible\n",
      "#3 possible\n"
     ]
    }
   ],
   "source": [
    "def find(num, cnt):\n",
    "    while len(str(num*cnt)) == len(str(num)):\n",
    "        temp = str(num*cnt)\n",
    "        temp_cnt = 0\n",
    "        for number in temp:\n",
    "            if number in str(num):\n",
    "                temp_cnt += 1\n",
    "        if temp_cnt == len(str(num)):\n",
    "            return True\n",
    "        cnt+=1\n",
    "    return False\n",
    "\n",
    "T = int(input())\n",
    "for test_case in range(1, T+1):\n",
    "    num = int(input())\n",
    "    cnt = 2\n",
    "    res = find(num, cnt)\n",
    "    if res:\n",
    "        print('#{} possible'.format(test_case))\n",
    "    else:\n",
    "        print('#{} impossible'.format(test_case))\n",
    "                "
   ]
  },
  {
   "cell_type": "code",
   "execution_count": null,
   "metadata": {},
   "outputs": [],
   "source": []
  }
 ],
 "metadata": {
  "kernelspec": {
   "display_name": "Python 3.7.4 ('base')",
   "language": "python",
   "name": "python3"
  },
  "language_info": {
   "codemirror_mode": {
    "name": "ipython",
    "version": 3
   },
   "file_extension": ".py",
   "mimetype": "text/x-python",
   "name": "python",
   "nbconvert_exporter": "python",
   "pygments_lexer": "ipython3",
   "version": "3.7.4"
  },
  "orig_nbformat": 4,
  "vscode": {
   "interpreter": {
    "hash": "e4cce46d6be9934fbd27f9ca0432556941ea5bdf741d4f4d64c6cd7f8dfa8fba"
   }
  }
 },
 "nbformat": 4,
 "nbformat_minor": 2
}
