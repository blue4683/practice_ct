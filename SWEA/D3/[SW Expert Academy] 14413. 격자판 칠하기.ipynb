{
 "cells": [
  {
   "attachments": {},
   "cell_type": "markdown",
   "metadata": {},
   "source": [
    "# SW Expert Academy - 14413. 격자판 칠하기\n",
    "\n",
    "* [문제출처](https://swexpertacademy.com/main/code/problem/problemDetail.do?problemLevel=3&contestProbId=AYEXgKnKKg0DFARx&categoryId=AYEXgKnKKg0DFARx&categoryType=CODE&problemTitle=&orderBy=FIRST_REG_DATETIME&selectCodeLang=ALL&select-1=3&pageSize=10&pageIndex=1 \"14413. 격자판 칠하기\")"
   ]
  },
  {
   "attachments": {},
   "cell_type": "markdown",
   "metadata": {},
   "source": [
    "## 풀이\n",
    "\n",
    "* 열과 행을 더한 값이 짝수인지 홀수인지로 위치를 구분한다.\n",
    "* '#' or '.'의 열과 행을 더했을 때, 같은 문자에서 짝수와 홀수가 같이 나오는 경우와 '#'과 '.'이 서로 짝수나 홀수로 같을 경우는 impossible, 그 외는 possible이다."
   ]
  },
  {
   "attachments": {},
   "cell_type": "markdown",
   "metadata": {},
   "source": [
    "## 실수\n",
    "\n",
    "* 열과 행이 모두 다른 위치의 값 비교를 하지 않았다.\n",
    "* '#'과 '.'이 하나씩 있는 경우를 고려하지 않았다."
   ]
  },
  {
   "attachments": {},
   "cell_type": "markdown",
   "metadata": {},
   "source": [
    "## 정답"
   ]
  },
  {
   "cell_type": "code",
   "execution_count": null,
   "metadata": {},
   "outputs": [],
   "source": [
    "T = int(input())\n",
    "for test_case in range(1,T+1):\n",
    "    y,x=map(int,input().split())\n",
    "    scale = [list(input()) for _ in range(y)]\n",
    "    dot_idx = []\n",
    "    sharp_idx = []\n",
    "    res = 'possible'\n",
    "    for i in range(y):\n",
    "        for j in range(x):\n",
    "            if scale[i][j] == '#':\n",
    "                sharp_idx.append(i+j)\n",
    "            if scale[i][j] == '.':\n",
    "                dot_idx.append(i+j)\n",
    "    div_dot_idx = list(map(lambda x:x%2, dot_idx))\n",
    "    div_sharp_idx = list(map(lambda x:x%2, sharp_idx))\n",
    "    if len(set(div_dot_idx)) == 2 or len(set(div_sharp_idx)) == 2 or (set(div_dot_idx) == set(div_sharp_idx) and (set(div_dot_idx) != set())):\n",
    "        res = 'impossible'\n",
    "\n",
    "    print('#{} {}'.format(test_case, res))"
   ]
  },
  {
   "attachments": {},
   "cell_type": "markdown",
   "metadata": {},
   "source": [
    "## 예제용 정답"
   ]
  },
  {
   "attachments": {},
   "cell_type": "markdown",
   "metadata": {},
   "source": [
    "### 시도1(브루트 포스)"
   ]
  },
  {
   "cell_type": "code",
   "execution_count": 20,
   "metadata": {},
   "outputs": [
    {
     "name": "stdout",
     "output_type": "stream",
     "text": [
      "#1 possible\n",
      "#2 impossible\n",
      "#3 possible\n",
      "#4 possible\n"
     ]
    }
   ],
   "source": [
    "import sys\n",
    "sys.stdin = open('C:\\practice_ct\\practice_ct\\SWEA\\D3\\input\\\\14413.txt', 'r')\n",
    "input = sys.stdin.readline\n",
    "\n",
    "T = int(input())\n",
    "for test_case in range(1,T+1):\n",
    "    y,x=map(int,input().split())\n",
    "    scale = []\n",
    "    dot_idx_list = []\n",
    "    sharp_idx_list = []\n",
    "    res = ''\n",
    "    for _ in range(y):\n",
    "        scale.append(list(input()))\n",
    "    for line in scale:\n",
    "        dot_idx = []\n",
    "        sharp_idx = []\n",
    "        for idx in range(x):\n",
    "            if line[idx] == '#':\n",
    "                sharp_idx.append(idx)\n",
    "            if line[idx] == '.':\n",
    "                dot_idx.append(idx)\n",
    "        div_dot_idx = list(map(lambda x:x%2, dot_idx))\n",
    "        div_sharp_idx = list(map(lambda x:x%2, sharp_idx))\n",
    "        dot_idx_list.append(div_dot_idx)\n",
    "        sharp_idx_list.append(div_sharp_idx)\n",
    "        if 1 < len(set(div_dot_idx)) or 1 < len(set(div_sharp_idx)):\n",
    "            res = 'impossible'\n",
    "            break\n",
    "        else:\n",
    "            for i in range(x):\n",
    "                for j in range(y-1):\n",
    "                    if (scale[j][i] == '#' and scale[j+1][i] == '#') or (scale[j][i] == '.' and scale[j+1][i] == '.'):\n",
    "                        res = 'impossible'\n",
    "                        break\n",
    "    for idx in range(len(dot_idx_list)-1):\n",
    "        for dot in dot_idx_list[idx]:\n",
    "            if dot!='' and dot in dot_idx_list[idx+1]:\n",
    "                res = 'impossible'\n",
    "    for idx in range(len(sharp_idx_list)-1):\n",
    "        for sharp in sharp_idx_list[idx]:\n",
    "            if sharp!='' and sharp in sharp_idx_list[idx+1]:\n",
    "                res = 'impossible'\n",
    "\n",
    "    if res == '':\n",
    "        print('#{} possible'.format(test_case))\n",
    "    else:\n",
    "        print('#{} {}'.format(test_case, res))\n"
   ]
  },
  {
   "attachments": {},
   "cell_type": "markdown",
   "metadata": {},
   "source": [
    "### 시도2(열+행 분류)"
   ]
  },
  {
   "cell_type": "code",
   "execution_count": 21,
   "metadata": {},
   "outputs": [
    {
     "name": "stdout",
     "output_type": "stream",
     "text": [
      "#1 possible\n",
      "#2 impossible\n",
      "#3 possible\n",
      "#4 impossible\n"
     ]
    }
   ],
   "source": [
    "import sys\n",
    "sys.stdin = open('C:\\practice_ct\\practice_ct\\SWEA\\D3\\input\\\\14413.txt', 'r')\n",
    "input = sys.stdin.readline\n",
    "\n",
    "T = int(input())\n",
    "for test_case in range(1,T+1):\n",
    "    y,x=map(int,input().split())\n",
    "    scale = [list(input()) for _ in range(y)]\n",
    "    dot_idx = []\n",
    "    sharp_idx = []\n",
    "    res = 'possible'\n",
    "    for i in range(y):\n",
    "        for j in range(x):\n",
    "            if scale[i][j] == '#':\n",
    "                sharp_idx.append(i+j)\n",
    "            if scale[i][j] == '.':\n",
    "                dot_idx.append(i+j)\n",
    "    div_dot_idx = list(map(lambda x:x%2, dot_idx))\n",
    "    div_sharp_idx = list(map(lambda x:x%2, sharp_idx))\n",
    "    if len(set(div_dot_idx)) == 2 or len(set(div_sharp_idx)) == 2 or (set(div_dot_idx) == set(div_sharp_idx) and (set(div_dot_idx) != set())):\n",
    "        res = 'impossible'\n",
    "\n",
    "    print('#{} {}'.format(test_case, res))"
   ]
  },
  {
   "cell_type": "code",
   "execution_count": null,
   "metadata": {},
   "outputs": [],
   "source": []
  }
 ],
 "metadata": {
  "kernelspec": {
   "display_name": "Python 3.7.4 ('base')",
   "language": "python",
   "name": "python3"
  },
  "language_info": {
   "codemirror_mode": {
    "name": "ipython",
    "version": 3
   },
   "file_extension": ".py",
   "mimetype": "text/x-python",
   "name": "python",
   "nbconvert_exporter": "python",
   "pygments_lexer": "ipython3",
   "version": "3.7.4"
  },
  "orig_nbformat": 4,
  "vscode": {
   "interpreter": {
    "hash": "e4cce46d6be9934fbd27f9ca0432556941ea5bdf741d4f4d64c6cd7f8dfa8fba"
   }
  }
 },
 "nbformat": 4,
 "nbformat_minor": 2
}
