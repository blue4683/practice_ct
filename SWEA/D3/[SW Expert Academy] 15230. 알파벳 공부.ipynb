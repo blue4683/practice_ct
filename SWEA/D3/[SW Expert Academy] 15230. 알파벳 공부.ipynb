{
 "cells": [
  {
   "attachments": {},
   "cell_type": "markdown",
   "metadata": {},
   "source": [
    "# SW Expert Academy - 15230. 알파벳 공부\n",
    "\n",
    "* [문제출처](https://swexpertacademy.com/main/code/problem/problemDetail.do?problemLevel=3&contestProbId=AYLnMQT6vPADFATf&categoryId=AYLnMQT6vPADFATf&categoryType=CODE&problemTitle=&orderBy=FIRST_REG_DATETIME&selectCodeLang=ALL&select-1=3&pageSize=10&pageIndex=1 \"15230. 알파벳 공부\")"
   ]
  },
  {
   "attachments": {},
   "cell_type": "markdown",
   "metadata": {},
   "source": [
    "## 정답"
   ]
  },
  {
   "cell_type": "code",
   "execution_count": null,
   "metadata": {},
   "outputs": [],
   "source": [
    "T = int(input())\n",
    "for test_case in range(1, T+1):\n",
    "    text = input()\n",
    "    cnt = 1\n",
    "    if text[0] != 'a':\n",
    "        print('#{} {}'.format(test_case, 0))\n",
    "    else:\n",
    "        for idx in range(len(text)-1):\n",
    "            if ord(text[idx+1]) - ord(text[idx]) == 1:\n",
    "                cnt+=1\n",
    "            else:\n",
    "                break\n",
    "        print('#{} {}'.format(test_case, cnt))"
   ]
  },
  {
   "attachments": {},
   "cell_type": "markdown",
   "metadata": {},
   "source": [
    "## 예제용 정답"
   ]
  },
  {
   "cell_type": "code",
   "execution_count": 8,
   "metadata": {},
   "outputs": [
    {
     "name": "stdout",
     "output_type": "stream",
     "text": [
      "#1 21\n"
     ]
    }
   ],
   "source": [
    "T = 1\n",
    "for test_case in range(1, T+1):\n",
    "    text = 'abcdefghijklmnopqrstu'\n",
    "    cnt = 1\n",
    "    if text[0] != 'a':\n",
    "        print('#{} {}'.format(test_case, 0))\n",
    "    else:\n",
    "        for idx in range(len(text)-1):\n",
    "            if ord(text[idx+1]) - ord(text[idx]) == 1:\n",
    "                cnt+=1\n",
    "            else:\n",
    "                break\n",
    "        print('#{} {}'.format(test_case, cnt))"
   ]
  },
  {
   "cell_type": "code",
   "execution_count": null,
   "metadata": {},
   "outputs": [],
   "source": []
  }
 ],
 "metadata": {
  "kernelspec": {
   "display_name": "Python 3.7.4 ('base')",
   "language": "python",
   "name": "python3"
  },
  "language_info": {
   "codemirror_mode": {
    "name": "ipython",
    "version": 3
   },
   "file_extension": ".py",
   "mimetype": "text/x-python",
   "name": "python",
   "nbconvert_exporter": "python",
   "pygments_lexer": "ipython3",
   "version": "3.7.4"
  },
  "orig_nbformat": 4,
  "vscode": {
   "interpreter": {
    "hash": "e4cce46d6be9934fbd27f9ca0432556941ea5bdf741d4f4d64c6cd7f8dfa8fba"
   }
  }
 },
 "nbformat": 4,
 "nbformat_minor": 2
}
