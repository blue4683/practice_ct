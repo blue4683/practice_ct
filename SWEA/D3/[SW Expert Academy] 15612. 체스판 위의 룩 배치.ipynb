{
 "cells": [
  {
   "attachments": {},
   "cell_type": "markdown",
   "metadata": {},
   "source": [
    "# SW Expert Academy - 15612. 체스판 위의 룩 배치\n",
    "\n",
    "* [문제출처](https://swexpertacademy.com/main/code/problem/problemDetail.do?problemLevel=3&contestProbId=AYOBfxwaAXsDFATW&categoryId=AYOBfxwaAXsDFATW&categoryType=CODE&problemTitle=&orderBy=FIRST_REG_DATETIME&selectCodeLang=ALL&select-1=3&pageSize=10&pageIndex=1 \"15612. 체스판 위의 룩 배치\")"
   ]
  },
  {
   "attachments": {},
   "cell_type": "markdown",
   "metadata": {},
   "source": [
    "## 정답"
   ]
  },
  {
   "cell_type": "code",
   "execution_count": null,
   "metadata": {},
   "outputs": [],
   "source": [
    "T = int(input())\n",
    "for test_case in range(1, T + 1):\n",
    "    chess = []\n",
    "    check = []\n",
    "    checkpoint = []\n",
    "    for j in range(8):\n",
    "        chess.append(input())\n",
    "        \n",
    "    for i in range(8):\n",
    "        check.append([0]*8)\n",
    "    for i in range(8):\n",
    "        for j in range(8):\n",
    "            if chess[i][j] == 'O':\n",
    "                check[i][j] = 1\n",
    "                checkpoint.append(j)\n",
    "    if len(checkpoint)!=len(set(checkpoint)):\n",
    "        print('#{} no'.format(test_case))\n",
    "    else:\n",
    "        cnt = 0\n",
    "        for i in range(8):\n",
    "            if check[i].count(1) > 1 or check[i].count(1)==0:\n",
    "                print('#{} no'.format(test_case))\n",
    "                break\n",
    "            else:\n",
    "                cnt+=1\n",
    "            if cnt == 7:\n",
    "                print('#{} yes'.format(test_case))"
   ]
  },
  {
   "attachments": {},
   "cell_type": "markdown",
   "metadata": {},
   "source": [
    "## 예제용 정답"
   ]
  },
  {
   "cell_type": "code",
   "execution_count": 14,
   "metadata": {},
   "outputs": [
    {
     "name": "stdout",
     "output_type": "stream",
     "text": [
      "#1 yes\n",
      "#2 no\n",
      "#3 no\n"
     ]
    }
   ],
   "source": [
    "cases = [['......O.',\n",
    "'.......O',\n",
    "'...O....',\n",
    "'O.......',\n",
    "'....O...',\n",
    "'..O.....',\n",
    "'.O......',\n",
    "'.....O..'],\n",
    "['OOOOOOOO',\n",
    "'OOOOOOOO',\n",
    "'OOOOOOOO',\n",
    "'OOOOOOOO',\n",
    "'OOOOOOOO',\n",
    "'OOOOOOOO',\n",
    "'OOOOOOOO',\n",
    "'OOOOOOOO'],\n",
    "['.O.O.O.O',\n",
    "'O.O.O.O.',\n",
    "'........',\n",
    "'........',\n",
    "'........',\n",
    "'........',\n",
    "'........',\n",
    "'........']]\n",
    "\n",
    "for idx, case in enumerate(cases):\n",
    "    check = []\n",
    "    checkpoint = []\n",
    "    for i in range(8):\n",
    "        check.append([0]*8)\n",
    "    for i in range(8):\n",
    "        for j in range(8):\n",
    "            if case[i][j] == 'O':\n",
    "                check[i][j] = 1\n",
    "                checkpoint.append(j)\n",
    "    if len(checkpoint)!=len(set(checkpoint)):\n",
    "        print('#{} no'.format(idx+1))\n",
    "    else:\n",
    "        cnt = 0\n",
    "        for i in range(8):\n",
    "            if check[i].count(1) > 1 or check[i].count(1)==0:\n",
    "                print('#{} no'.format(idx+1))\n",
    "                break\n",
    "            else:\n",
    "                cnt+=1\n",
    "            if cnt == 7:\n",
    "                print('#{} yes'.format(idx+1))\n"
   ]
  },
  {
   "cell_type": "code",
   "execution_count": null,
   "metadata": {},
   "outputs": [],
   "source": []
  },
  {
   "cell_type": "code",
   "execution_count": null,
   "metadata": {},
   "outputs": [],
   "source": []
  }
 ],
 "metadata": {
  "kernelspec": {
   "display_name": "Python 3.7.4 ('base')",
   "language": "python",
   "name": "python3"
  },
  "language_info": {
   "codemirror_mode": {
    "name": "ipython",
    "version": 3
   },
   "file_extension": ".py",
   "mimetype": "text/x-python",
   "name": "python",
   "nbconvert_exporter": "python",
   "pygments_lexer": "ipython3",
   "version": "3.7.4"
  },
  "orig_nbformat": 4,
  "vscode": {
   "interpreter": {
    "hash": "e4cce46d6be9934fbd27f9ca0432556941ea5bdf741d4f4d64c6cd7f8dfa8fba"
   }
  }
 },
 "nbformat": 4,
 "nbformat_minor": 2
}
