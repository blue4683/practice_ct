{
 "cells": [
  {
   "attachments": {},
   "cell_type": "markdown",
   "metadata": {},
   "source": [
    "# SW Expert Academy - 15758. 무한 문자열\n",
    "\n",
    "* [문제출처](https://swexpertacademy.com/main/code/problem/problemDetail.do?contestProbId=AYP5JmsqcngDFATW&categoryId=AYP5JmsqcngDFATW&categoryType=CODE&&& \"15758. 무한 문자열\")"
   ]
  },
  {
   "attachments": {},
   "cell_type": "markdown",
   "metadata": {},
   "source": [
    "## 정답"
   ]
  },
  {
   "cell_type": "code",
   "execution_count": null,
   "metadata": {},
   "outputs": [],
   "source": [
    "T = int(input())\n",
    "for test_case in range(1, T+1):\n",
    "    a, b = input().split()\n",
    "    cnt = len(a)*len(b)\n",
    "\n",
    "    if a == '' or b == '':\n",
    "        print('#{} no'.format(test_case))\n",
    "    else:\n",
    "        if len(a) >= len(b):\n",
    "            temp = (a*cnt).replace(b, '')\n",
    "            if temp == '':\n",
    "                print('#{} yes'.format(test_case))\n",
    "            else:\n",
    "                print('#{} no'.format(test_case))\n",
    "        else:\n",
    "            temp = (b*cnt).replace(a, '')\n",
    "            if temp == '':\n",
    "                print('#{} yes'.format(test_case))\n",
    "            else:\n",
    "                print('#{} no'.format(test_case))"
   ]
  },
  {
   "attachments": {},
   "cell_type": "markdown",
   "metadata": {},
   "source": [
    "## 예제용 정답"
   ]
  },
  {
   "attachments": {},
   "cell_type": "markdown",
   "metadata": {},
   "source": [
    "### 시도1"
   ]
  },
  {
   "cell_type": "code",
   "execution_count": 1,
   "metadata": {},
   "outputs": [
    {
     "name": "stdout",
     "output_type": "stream",
     "text": [
      "#1 yes\n",
      "#2 no\n",
      "#3 yes\n"
     ]
    }
   ],
   "source": [
    "T = int(input())\n",
    "for test_case in range(1, T+1):\n",
    "    a, b = input().split()\n",
    "    cnt = len(a)*len(b)\n",
    "\n",
    "    if a == '' or b == '':\n",
    "        print('#{} no'.format(test_case))\n",
    "    else:\n",
    "        if len(a) >= len(b):\n",
    "            temp = (a*cnt).replace(b, '')\n",
    "            if temp == '':\n",
    "                print('#{} yes'.format(test_case))\n",
    "            else:\n",
    "                print('#{} no'.format(test_case))\n",
    "        else:\n",
    "            temp = (b*cnt).replace(a, '')\n",
    "            if temp == '':\n",
    "                print('#{} yes'.format(test_case))\n",
    "            else:\n",
    "                print('#{} no'.format(test_case))"
   ]
  },
  {
   "cell_type": "code",
   "execution_count": null,
   "metadata": {},
   "outputs": [],
   "source": []
  }
 ],
 "metadata": {
  "kernelspec": {
   "display_name": "Python 3.7.4 ('base')",
   "language": "python",
   "name": "python3"
  },
  "language_info": {
   "codemirror_mode": {
    "name": "ipython",
    "version": 3
   },
   "file_extension": ".py",
   "mimetype": "text/x-python",
   "name": "python",
   "nbconvert_exporter": "python",
   "pygments_lexer": "ipython3",
   "version": "3.7.4"
  },
  "orig_nbformat": 4,
  "vscode": {
   "interpreter": {
    "hash": "e4cce46d6be9934fbd27f9ca0432556941ea5bdf741d4f4d64c6cd7f8dfa8fba"
   }
  }
 },
 "nbformat": 4,
 "nbformat_minor": 2
}
